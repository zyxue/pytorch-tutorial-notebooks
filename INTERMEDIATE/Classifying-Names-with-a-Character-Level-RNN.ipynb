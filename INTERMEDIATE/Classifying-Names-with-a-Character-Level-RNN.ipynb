{
 "cells": [
  {
   "cell_type": "markdown",
   "metadata": {},
   "source": [
    "https://pytorch.org/tutorials/intermediate/char_rnn_classification_tutorial.html"
   ]
  },
  {
   "cell_type": "markdown",
   "metadata": {},
   "source": [
    "Download data:\n",
    "    \n",
    "`wget https://download.pytorch.org/tutorial/data.zip`"
   ]
  },
  {
   "cell_type": "code",
   "execution_count": 1,
   "metadata": {},
   "outputs": [
    {
     "data": {
      "text/plain": [
       "<torch._C.Generator at 0x7f0ff03a04b0>"
      ]
     },
     "execution_count": 1,
     "metadata": {},
     "output_type": "execute_result"
    }
   ],
   "source": [
    "from io import open\n",
    "import glob\n",
    "import random\n",
    "import time\n",
    "import math\n",
    "import unicodedata\n",
    "import string\n",
    "\n",
    "import matplotlib.pyplot as plt\n",
    "import matplotlib.ticker as ticker\n",
    "\n",
    "import torch\n",
    "import torch.nn as nn\n",
    "\n",
    "torch.manual_seed(1)"
   ]
  },
  {
   "cell_type": "code",
   "execution_count": 2,
   "metadata": {},
   "outputs": [
    {
     "name": "stdout",
     "output_type": "stream",
     "text": [
      "['../data/names/Italian.txt', '../data/names/Dutch.txt', '../data/names/German.txt', '../data/names/Japanese.txt', '../data/names/Greek.txt', '../data/names/Scottish.txt', '../data/names/Czech.txt', '../data/names/Chinese.txt', '../data/names/Irish.txt', '../data/names/French.txt', '../data/names/English.txt', '../data/names/Korean.txt', '../data/names/Polish.txt', '../data/names/Spanish.txt', '../data/names/Vietnamese.txt', '../data/names/Portuguese.txt', '../data/names/Russian.txt', '../data/names/Arabic.txt']\n"
     ]
    }
   ],
   "source": [
    "def findFiles(path):\n",
    "    return glob.glob(path)\n",
    "\n",
    "name_files = findFiles('../data/names/*.txt')\n",
    "print(name_files)"
   ]
  },
  {
   "cell_type": "code",
   "execution_count": 3,
   "metadata": {},
   "outputs": [
    {
     "name": "stdout",
     "output_type": "stream",
     "text": [
      "abcdefghijklmnopqrstuvwxyzABCDEFGHIJKLMNOPQRSTUVWXYZ .,;'\n",
      "57\n"
     ]
    }
   ],
   "source": [
    "all_letters = string.ascii_letters + \" .,;'\"\n",
    "n_letters = len(all_letters)\n",
    "print(all_letters)\n",
    "print(n_letters)"
   ]
  },
  {
   "cell_type": "code",
   "execution_count": 4,
   "metadata": {},
   "outputs": [
    {
     "name": "stdout",
     "output_type": "stream",
     "text": [
      "Slusarski\n"
     ]
    }
   ],
   "source": [
    "# Turn a Unicode string to plain ASCII, thanks to http://stackoverflow.com/a/518232/2809427\n",
    "def unicodeToAscii(s):\n",
    "    return ''.join(\n",
    "        c for c in unicodedata.normalize('NFD', s)\n",
    "        if unicodedata.category(c) != 'Mn'\n",
    "        and c in all_letters\n",
    "    )\n",
    "\n",
    "print(unicodeToAscii('Ślusàrski'))"
   ]
  },
  {
   "cell_type": "code",
   "execution_count": 5,
   "metadata": {},
   "outputs": [],
   "source": [
    "# Build the category_lines dictionary, a list of names per language\n",
    "category_lines = {}\n",
    "all_categories = []\n",
    "\n",
    "# Read a file and split into lines\n",
    "def readLines(filename):\n",
    "    lines = open(filename, encoding='utf-8').read().strip().split('\\n')\n",
    "    return [unicodeToAscii(line) for line in lines]\n",
    "\n",
    "for filename in name_files:\n",
    "    category = filename.split('/')[-1].split('.')[0]\n",
    "    all_categories.append(category)\n",
    "    lines = readLines(filename)\n",
    "    category_lines[category] = lines\n",
    "\n",
    "n_categories = len(all_categories)"
   ]
  },
  {
   "cell_type": "code",
   "execution_count": 6,
   "metadata": {},
   "outputs": [
    {
     "name": "stdout",
     "output_type": "stream",
     "text": [
      "['Italian', 'Dutch', 'German', 'Japanese', 'Greek', 'Scottish', 'Czech', 'Chinese', 'Irish', 'French', 'English', 'Korean', 'Polish', 'Spanish', 'Vietnamese', 'Portuguese', 'Russian', 'Arabic']\n"
     ]
    }
   ],
   "source": [
    "print(all_categories)"
   ]
  },
  {
   "cell_type": "code",
   "execution_count": 7,
   "metadata": {},
   "outputs": [
    {
     "name": "stdout",
     "output_type": "stream",
     "text": [
      "Italian   : ['Abandonato', 'Abatangelo', 'Abatantuono', 'Abate', 'Abategiovanni']\n",
      "Dutch     : ['Aalsburg', 'Aalst', 'Aarle', 'Achteren', 'Achthoven']\n",
      "German    : ['Abbing', 'Abel', 'Abeln', 'Abt', 'Achilles']\n",
      "Japanese  : ['Abe', 'Abukara', 'Adachi', 'Aida', 'Aihara']\n",
      "Greek     : ['Adamidis', 'Adamou', 'Agelakos', 'Akrivopoulos', 'Alexandropoulos']\n",
      "Scottish  : ['Smith', 'Brown', 'Wilson', 'Campbell', 'Stewart']\n",
      "Czech     : ['Abl', 'Adsit', 'Ajdrna', 'Alt', 'Antonowitsch']\n",
      "Chinese   : ['Ang', 'AuYong', 'Bai', 'Ban', 'Bao']\n",
      "Irish     : ['Adam', 'Ahearn', 'Aodh', 'Aodha', 'Aonghuis']\n",
      "French    : ['Abel', 'Abraham', 'Adam', 'Albert', 'Allard']\n",
      "English   : ['Abbas', 'Abbey', 'Abbott', 'Abdi', 'Abel']\n",
      "Korean    : ['Ahn', 'Baik', 'Bang', 'Byon', 'Cha']\n",
      "Polish    : ['Adamczak', 'Adamczyk', 'Andrysiak', 'Auttenberg', 'Bartosz']\n",
      "Spanish   : ['Abana', 'Abano', 'Abarca', 'Abaroa', 'Abascal']\n",
      "Vietnamese: ['Nguyen', 'Tron', 'Le', 'Pham', 'Huynh']\n",
      "Portuguese: ['Abreu', 'Albuquerque', 'Almeida', 'Alves', 'Araujo']\n",
      "Russian   : ['Ababko', 'Abaev', 'Abagyan', 'Abaidulin', 'Abaidullin']\n",
      "Arabic    : ['Khoury', 'Nahas', 'Daher', 'Gerges', 'Nazari']\n"
     ]
    }
   ],
   "source": [
    "for k, v in category_lines.items():\n",
    "    print('{0:10s}: {1}'.format(k, v[:5]))"
   ]
  },
  {
   "cell_type": "code",
   "execution_count": 8,
   "metadata": {},
   "outputs": [
    {
     "data": {
      "text/plain": [
       "18"
      ]
     },
     "execution_count": 8,
     "metadata": {},
     "output_type": "execute_result"
    }
   ],
   "source": [
    "n_categories"
   ]
  },
  {
   "cell_type": "markdown",
   "metadata": {},
   "source": [
    "## Turning Names into Tensors"
   ]
  },
  {
   "cell_type": "code",
   "execution_count": 9,
   "metadata": {},
   "outputs": [
    {
     "name": "stdout",
     "output_type": "stream",
     "text": [
      "tensor([[ 0.,  0.,  0.,  0.,  0.,  0.,  0.,  0.,  0.,  0.,  0.,  0.,\n",
      "          0.,  0.,  0.,  0.,  0.,  0.,  0.,  0.,  0.,  0.,  0.,  0.,\n",
      "          0.,  0.,  0.,  0.,  0.,  0.,  0.,  0.,  0.,  0.,  0.,  1.,\n",
      "          0.,  0.,  0.,  0.,  0.,  0.,  0.,  0.,  0.,  0.,  0.,  0.,\n",
      "          0.,  0.,  0.,  0.,  0.,  0.,  0.,  0.,  0.]])\n",
      "torch.Size([5, 1, 57])\n"
     ]
    }
   ],
   "source": [
    "# Find letter index from all_letters, e.g. \"a\" = 0\n",
    "def letterToIndex(letter):\n",
    "    return all_letters.find(letter)\n",
    "\n",
    "# Just for demonstration, turn a letter into a <1 x n_letters> Tensor\n",
    "def letterToTensor(letter):\n",
    "    tensor = torch.zeros(1, n_letters)\n",
    "    tensor[0][letterToIndex(letter)] = 1\n",
    "    return tensor\n",
    "\n",
    "# Turn a line into a <line_length x 1 x n_letters>,\n",
    "# or an array of one-hot letter vectors\n",
    "def lineToTensor(line):\n",
    "    tensor = torch.zeros(len(line), 1, n_letters)\n",
    "    for li, letter in enumerate(line):\n",
    "        tensor[li][0][letterToIndex(letter)] = 1\n",
    "    return tensor\n",
    "\n",
    "print(letterToTensor('J'))\n",
    "\n",
    "print(lineToTensor('Jones').size())"
   ]
  },
  {
   "cell_type": "markdown",
   "metadata": {},
   "source": [
    "## Creating the Network"
   ]
  },
  {
   "cell_type": "markdown",
   "metadata": {},
   "source": [
    "<img src=\"https://i.imgur.com/Z2xbySO.png\" alt/>"
   ]
  },
  {
   "cell_type": "code",
   "execution_count": 10,
   "metadata": {},
   "outputs": [],
   "source": [
    "class RNN(nn.Module):\n",
    "    def __init__(self, input_size, hidden_size, output_size):\n",
    "        super(RNN, self).__init__()\n",
    "\n",
    "        self.hidden_size = hidden_size\n",
    "\n",
    "        self.i2h = nn.Linear(input_size + hidden_size, hidden_size)\n",
    "        self.i2o = nn.Linear(input_size + hidden_size, output_size)\n",
    "        self.softmax = nn.LogSoftmax(dim=1)\n",
    "\n",
    "    def forward(self, input, hidden):\n",
    "        combined = torch.cat((input, hidden), 1)\n",
    "        hidden = self.i2h(combined)\n",
    "        output = self.i2o(combined)\n",
    "        output = self.softmax(output)\n",
    "        return output, hidden\n",
    "\n",
    "    def initHidden(self):\n",
    "        return torch.zeros(1, self.hidden_size)"
   ]
  },
  {
   "cell_type": "code",
   "execution_count": 11,
   "metadata": {},
   "outputs": [],
   "source": [
    "n_hidden = 128\n",
    "rnn = RNN(n_letters, n_hidden, n_categories)"
   ]
  },
  {
   "cell_type": "code",
   "execution_count": 12,
   "metadata": {},
   "outputs": [
    {
     "name": "stdout",
     "output_type": "stream",
     "text": [
      "tensor([[-2.8739, -2.9028, -2.8908, -2.8810, -2.9101, -2.8985, -2.9106,\n",
      "         -2.9278, -2.9383, -2.8299, -2.8164, -2.7802, -3.0030, -2.8686,\n",
      "         -2.8727, -2.9259, -2.9581, -2.8613]])\n",
      "tensor([[ 0.0366,  0.0225,  0.0708, -0.0385,  0.0178, -0.0594,  0.1098,\n",
      "          0.0313, -0.0124, -0.0531,  0.1124, -0.0163,  0.0029, -0.0306,\n",
      "         -0.0145, -0.0395, -0.0657,  0.0420,  0.0152,  0.0811,  0.0221,\n",
      "          0.1079,  0.0078,  0.0289,  0.0194,  0.0564, -0.0383, -0.0354,\n",
      "         -0.0176,  0.0266,  0.0718, -0.0345, -0.1332,  0.0068,  0.0023,\n",
      "         -0.0116, -0.0452, -0.0823,  0.1196,  0.0225,  0.1072,  0.0365,\n",
      "         -0.0628,  0.0230,  0.0613,  0.0823,  0.0255,  0.0628,  0.0675,\n",
      "          0.0179,  0.0185,  0.0136,  0.0169,  0.0167,  0.0931,  0.0104,\n",
      "          0.0371, -0.0294,  0.0551,  0.0226, -0.0818,  0.1440,  0.0680,\n",
      "          0.0151,  0.0009, -0.0173, -0.0005,  0.1138,  0.0037, -0.1238,\n",
      "         -0.0228,  0.1202, -0.0505, -0.0571,  0.0612, -0.0445, -0.0035,\n",
      "         -0.0046,  0.0319, -0.0738,  0.0892, -0.0743,  0.0154,  0.0153,\n",
      "          0.0398,  0.0617,  0.0128,  0.0255,  0.0273,  0.0367, -0.0816,\n",
      "          0.0116, -0.0040,  0.0502, -0.0057, -0.0673, -0.0316,  0.0616,\n",
      "          0.0162,  0.0140,  0.0492, -0.0271, -0.0415,  0.0250, -0.0181,\n",
      "         -0.1071,  0.0263,  0.0654,  0.1100, -0.0190, -0.0071, -0.0350,\n",
      "         -0.1217, -0.0035,  0.1006,  0.0452,  0.0021,  0.0057, -0.0319,\n",
      "         -0.0041, -0.0620, -0.0492, -0.0374, -0.0345,  0.0449,  0.0378,\n",
      "          0.0418,  0.0221]])\n"
     ]
    }
   ],
   "source": [
    "input = letterToTensor('A')\n",
    "hidden = torch.zeros(1, n_hidden)\n",
    "\n",
    "output, next_hidden = rnn(input, hidden)\n",
    "print(output)\n",
    "print(next_hidden)"
   ]
  },
  {
   "cell_type": "code",
   "execution_count": 13,
   "metadata": {},
   "outputs": [
    {
     "name": "stdout",
     "output_type": "stream",
     "text": [
      "tensor([[-2.8739, -2.9028, -2.8908, -2.8810, -2.9101, -2.8985, -2.9106,\n",
      "         -2.9278, -2.9383, -2.8299, -2.8164, -2.7802, -3.0030, -2.8686,\n",
      "         -2.8727, -2.9259, -2.9581, -2.8613]])\n",
      "tensor([[ 0.0366,  0.0225,  0.0708, -0.0385,  0.0178, -0.0594,  0.1098,\n",
      "          0.0313, -0.0124, -0.0531,  0.1124, -0.0163,  0.0029, -0.0306,\n",
      "         -0.0145, -0.0395, -0.0657,  0.0420,  0.0152,  0.0811,  0.0221,\n",
      "          0.1079,  0.0078,  0.0289,  0.0194,  0.0564, -0.0383, -0.0354,\n",
      "         -0.0176,  0.0266,  0.0718, -0.0345, -0.1332,  0.0068,  0.0023,\n",
      "         -0.0116, -0.0452, -0.0823,  0.1196,  0.0225,  0.1072,  0.0365,\n",
      "         -0.0628,  0.0230,  0.0613,  0.0823,  0.0255,  0.0628,  0.0675,\n",
      "          0.0179,  0.0185,  0.0136,  0.0169,  0.0167,  0.0931,  0.0104,\n",
      "          0.0371, -0.0294,  0.0551,  0.0226, -0.0818,  0.1440,  0.0680,\n",
      "          0.0151,  0.0009, -0.0173, -0.0005,  0.1138,  0.0037, -0.1238,\n",
      "         -0.0228,  0.1202, -0.0505, -0.0571,  0.0612, -0.0445, -0.0035,\n",
      "         -0.0046,  0.0319, -0.0738,  0.0892, -0.0743,  0.0154,  0.0153,\n",
      "          0.0398,  0.0617,  0.0128,  0.0255,  0.0273,  0.0367, -0.0816,\n",
      "          0.0116, -0.0040,  0.0502, -0.0057, -0.0673, -0.0316,  0.0616,\n",
      "          0.0162,  0.0140,  0.0492, -0.0271, -0.0415,  0.0250, -0.0181,\n",
      "         -0.1071,  0.0263,  0.0654,  0.1100, -0.0190, -0.0071, -0.0350,\n",
      "         -0.1217, -0.0035,  0.1006,  0.0452,  0.0021,  0.0057, -0.0319,\n",
      "         -0.0041, -0.0620, -0.0492, -0.0374, -0.0345,  0.0449,  0.0378,\n",
      "          0.0418,  0.0221]])\n"
     ]
    }
   ],
   "source": [
    "input = lineToTensor('Albert')\n",
    "hidden = torch.zeros(1, n_hidden)\n",
    "\n",
    "output, next_hidden = rnn(input[0], hidden)\n",
    "print(output)\n",
    "print(next_hidden)"
   ]
  },
  {
   "cell_type": "markdown",
   "metadata": {},
   "source": [
    "## Training"
   ]
  },
  {
   "cell_type": "markdown",
   "metadata": {},
   "source": [
    "### Preparing for Training"
   ]
  },
  {
   "cell_type": "code",
   "execution_count": 14,
   "metadata": {},
   "outputs": [
    {
     "name": "stdout",
     "output_type": "stream",
     "text": [
      "('Korean', 11)\n"
     ]
    }
   ],
   "source": [
    "def categoryFromOutput(output):\n",
    "    top_n, top_i = output.topk(1)\n",
    "    category_i = top_i[0].item()\n",
    "    return all_categories[category_i], category_i\n",
    "\n",
    "print(categoryFromOutput(output))"
   ]
  },
  {
   "cell_type": "code",
   "execution_count": 15,
   "metadata": {},
   "outputs": [],
   "source": [
    "def randomChoice(l):\n",
    "    return l[random.randint(0, len(l) - 1)]\n",
    "\n",
    "def randomTrainingExample():\n",
    "    category = randomChoice(all_categories)\n",
    "    line = randomChoice(category_lines[category])\n",
    "    category_tensor = torch.tensor([all_categories.index(category)], dtype=torch.long)\n",
    "    line_tensor = lineToTensor(line)\n",
    "    return category, line, category_tensor, line_tensor"
   ]
  },
  {
   "cell_type": "code",
   "execution_count": 16,
   "metadata": {},
   "outputs": [
    {
     "name": "stdout",
     "output_type": "stream",
     "text": [
      "category = Spanish / line = Mingo\n",
      "category = Greek / line = Sardelis\n",
      "category = German / line = Tolkien\n",
      "category = Russian / line = Kaleshin\n",
      "category = Portuguese / line = Rodrigues\n",
      "category = Irish / line = Ceallach\n",
      "category = Greek / line = Adamou\n",
      "category = German / line = Adenauer\n",
      "category = Portuguese / line = Matos\n",
      "category = German / line = Forst\n"
     ]
    }
   ],
   "source": [
    "for i in range(10):\n",
    "    category, line, category_tensor, line_tensor = randomTrainingExample()\n",
    "    print('category =', category, '/ line =', line)"
   ]
  },
  {
   "cell_type": "markdown",
   "metadata": {},
   "source": [
    "### Training the Network"
   ]
  },
  {
   "cell_type": "code",
   "execution_count": 17,
   "metadata": {},
   "outputs": [],
   "source": [
    "criterion = nn.NLLLoss()"
   ]
  },
  {
   "cell_type": "code",
   "execution_count": 18,
   "metadata": {},
   "outputs": [],
   "source": [
    "learning_rate = 0.005 # If you set this too high, it might explode. If too low, it might not learn\n",
    "\n",
    "def train(category_tensor, line_tensor):\n",
    "    hidden = rnn.initHidden()\n",
    "\n",
    "    rnn.zero_grad()\n",
    "\n",
    "    for i in range(line_tensor.size()[0]):\n",
    "        output, hidden = rnn(line_tensor[i], hidden)\n",
    "\n",
    "    loss = criterion(output, category_tensor)\n",
    "    loss.backward()\n",
    "\n",
    "    # Add parameters' gradients to their values, multiplied by learning rate\n",
    "    for p in rnn.parameters():\n",
    "        p.data.add_(-learning_rate, p.grad.data)\n",
    "\n",
    "    return output, loss.item()"
   ]
  },
  {
   "cell_type": "code",
   "execution_count": 19,
   "metadata": {},
   "outputs": [
    {
     "name": "stdout",
     "output_type": "stream",
     "text": [
      "5000 5% (0m 23s) 2.2523 Switzer / German ✓\n",
      "10000 10% (0m 42s) 2.9713 Tunneson / Scottish ✗ (Dutch)\n",
      "15000 15% (1m 10s) 1.5025 Natsume / Japanese ✓\n",
      "20000 20% (1m 35s) 1.3706 Jin / Korean ✗ (Chinese)\n",
      "25000 25% (1m 55s) 0.7361 Teng / Chinese ✓\n",
      "30000 30% (2m 15s) 1.6838 Mohan / Arabic ✗ (Irish)\n",
      "35000 35% (2m 38s) 2.1606 Alam / Irish ✗ (English)\n",
      "40000 40% (2m 59s) 0.6290 Dubhain / Irish ✓\n",
      "45000 45% (3m 22s) 1.0806 Sobol / Polish ✓\n",
      "50000 50% (3m 48s) 0.7361 Ganim / Arabic ✓\n",
      "55000 55% (4m 12s) 1.2462 Schoorel / Dutch ✓\n",
      "60000 60% (4m 33s) 0.1987 Gan / Chinese ✓\n",
      "65000 65% (4m 54s) 0.9761 Ho / Korean ✗ (Vietnamese)\n",
      "70000 70% (5m 20s) 0.5796 Moon / Korean ✓\n",
      "75000 75% (5m 41s) 3.0433 Lanham / Arabic ✗ (English)\n",
      "80000 80% (6m 0s) 1.2879 Yeo / Chinese ✗ (Korean)\n",
      "85000 85% (6m 25s) 1.8016 Opp / German ✗ (Czech)\n",
      "90000 90% (6m 48s) 2.0614 Kore / Scottish ✗ (English)\n",
      "95000 95% (7m 18s) 0.1419 Chukhonkin / Russian ✓\n",
      "100000 100% (7m 44s) 0.4395 Shaw / Chinese ✓\n",
      "CPU times: user 17min 41s, sys: 32min 57s, total: 50min 39s\n",
      "Wall time: 7min 44s\n"
     ]
    }
   ],
   "source": [
    "%%time\n",
    "\n",
    "n_iters = 100000\n",
    "print_every = 5000\n",
    "plot_every = 1000\n",
    "\n",
    "# Keep track of losses for plotting\n",
    "current_loss = 0\n",
    "all_losses = []\n",
    "\n",
    "def timeSince(since):\n",
    "    now = time.time()\n",
    "    s = now - since\n",
    "    m = math.floor(s / 60)\n",
    "    s -= m * 60\n",
    "    return '%dm %ds' % (m, s)\n",
    "\n",
    "start = time.time()\n",
    "\n",
    "for iter in range(1, n_iters + 1):\n",
    "    category, line, category_tensor, line_tensor = randomTrainingExample()\n",
    "    output, loss = train(category_tensor, line_tensor)\n",
    "    current_loss += loss\n",
    "\n",
    "    # Print iter number, loss, name and guess\n",
    "    if iter % print_every == 0:\n",
    "        guess, guess_i = categoryFromOutput(output)\n",
    "        correct = '✓' if guess == category else '✗ (%s)' % category\n",
    "        print('%d %d%% (%s) %.4f %s / %s %s' % (iter, iter / n_iters * 100, timeSince(start), loss, line, guess, correct))\n",
    "\n",
    "    # Add current loss avg to list of losses\n",
    "    if iter % plot_every == 0:\n",
    "        all_losses.append(current_loss / plot_every)\n",
    "        current_loss = 0"
   ]
  },
  {
   "cell_type": "markdown",
   "metadata": {},
   "source": [
    "### Plotting the Results"
   ]
  },
  {
   "cell_type": "code",
   "execution_count": 20,
   "metadata": {},
   "outputs": [
    {
     "data": {
      "text/plain": [
       "[<matplotlib.lines.Line2D at 0x7f0fefd62860>]"
      ]
     },
     "execution_count": 20,
     "metadata": {},
     "output_type": "execute_result"
    },
    {
     "data": {
      "image/png": "[encoded data removed]",
      "text/plain": [
       "<Figure size 432x288 with 1 Axes>"
      ]
     },
     "metadata": {},
     "output_type": "display_data"
    }
   ],
   "source": [
    "plt.figure()\n",
    "plt.plot(all_losses)"
   ]
  },
  {
   "cell_type": "markdown",
   "metadata": {},
   "source": [
    "### Evaluating the Results"
   ]
  },
  {
   "cell_type": "code",
   "execution_count": 21,
   "metadata": {},
   "outputs": [
    {
     "data": {
      "image/png": "[encoded data removed]",
      "text/plain": [
       "<Figure size 432x288 with 2 Axes>"
      ]
     },
     "metadata": {},
     "output_type": "display_data"
    }
   ],
   "source": [
    "# Keep track of correct guesses in a confusion matrix\n",
    "confusion = torch.zeros(n_categories, n_categories)\n",
    "n_confusion = 10000\n",
    "\n",
    "# Just return an output given a line\n",
    "def evaluate(line_tensor):\n",
    "    hidden = rnn.initHidden()\n",
    "\n",
    "    for i in range(line_tensor.size()[0]):\n",
    "        output, hidden = rnn(line_tensor[i], hidden)\n",
    "\n",
    "    return output\n",
    "\n",
    "# Go through a bunch of examples and record which are correctly guessed\n",
    "for i in range(n_confusion):\n",
    "    category, line, category_tensor, line_tensor = randomTrainingExample()\n",
    "    output = evaluate(line_tensor)\n",
    "    guess, guess_i = categoryFromOutput(output)\n",
    "    category_i = all_categories.index(category)\n",
    "    confusion[category_i][guess_i] += 1\n",
    "\n",
    "# Normalize by dividing every row by its sum\n",
    "for i in range(n_categories):\n",
    "    confusion[i] = confusion[i] / confusion[i].sum()\n",
    "\n",
    "# Set up plot\n",
    "fig = plt.figure()\n",
    "ax = fig.add_subplot(111)\n",
    "cax = ax.matshow(confusion.numpy())\n",
    "fig.colorbar(cax)\n",
    "\n",
    "# Set up axes\n",
    "ax.set_xticklabels([''] + all_categories, rotation=90)\n",
    "ax.set_yticklabels([''] + all_categories)\n",
    "\n",
    "# Force label at every tick\n",
    "ax.xaxis.set_major_locator(ticker.MultipleLocator(1))\n",
    "ax.yaxis.set_major_locator(ticker.MultipleLocator(1))\n",
    "\n",
    "# sphinx_gallery_thumbnail_number = 2\n",
    "plt.show()"
   ]
  },
  {
   "cell_type": "markdown",
   "metadata": {},
   "source": [
    "### Running on User Input"
   ]
  },
  {
   "cell_type": "code",
   "execution_count": 22,
   "metadata": {},
   "outputs": [
    {
     "name": "stdout",
     "output_type": "stream",
     "text": [
      "\n",
      "> Dovesky\n",
      "(-0.28) Russian\n",
      "(-1.72) Czech\n",
      "(-3.35) Polish\n",
      "\n",
      "> Jackson\n",
      "(-0.84) Russian\n",
      "(-1.37) English\n",
      "(-2.43) Scottish\n",
      "\n",
      "> Satoshi\n",
      "(-0.83) Japanese\n",
      "(-1.20) Arabic\n",
      "(-2.26) Italian\n"
     ]
    }
   ],
   "source": [
    "def predict(input_line, n_predictions=3):\n",
    "    print('\\n> %s' % input_line)\n",
    "    with torch.no_grad():\n",
    "        output = evaluate(lineToTensor(input_line))\n",
    "\n",
    "        # Get top N categories\n",
    "        topv, topi = output.topk(n_predictions, 1, True)\n",
    "        predictions = []\n",
    "\n",
    "        for i in range(n_predictions):\n",
    "            value = topv[0][i].item()\n",
    "            category_index = topi[0][i].item()\n",
    "            print('(%.2f) %s' % (value, all_categories[category_index]))\n",
    "            predictions.append([value, all_categories[category_index]])\n",
    "\n",
    "predict('Dovesky')\n",
    "predict('Jackson')\n",
    "predict('Satoshi')"
   ]
  },
  {
   "cell_type": "markdown",
   "metadata": {},
   "source": [
    "## Exercises"
   ]
  },
  {
   "cell_type": "code",
   "execution_count": null,
   "metadata": {},
   "outputs": [],
   "source": []
  }
 ],
 "metadata": {
  "kernelspec": {
   "display_name": "Python 3",
   "language": "python",
   "name": "python3"
  },
  "language_info": {
   "codemirror_mode": {
    "name": "ipython",
    "version": 3
   },
   "file_extension": ".py",
   "mimetype": "text/x-python",
   "name": "python",
   "nbconvert_exporter": "python",
   "pygments_lexer": "ipython3",
   "version": "3.6.5"
  }
 },
 "nbformat": 4,
 "nbformat_minor": 2
}
